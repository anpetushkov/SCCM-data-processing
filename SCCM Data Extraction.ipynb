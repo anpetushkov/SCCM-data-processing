{
 "cells": [
  {
   "cell_type": "code",
   "execution_count": 1,
   "id": "3b709622-dfa2-4420-860e-3c07cbb4ef9b",
   "metadata": {},
   "outputs": [
    {
     "name": "stdout",
     "output_type": "stream",
     "text": [
      "==\n",
      "CHANGELOG\n",
      "This notebook was last run on May 02, 2023\n",
      "==\n"
     ]
    }
   ],
   "source": [
    "import datetime\n",
    "\n",
    "print(\n",
    "    \"==\\nCHANGELOG\\nThis notebook was last run on %s\\n==\"\n",
    "    % datetime.date.today().strftime(\"%b %d, %Y\")\n",
    ")"
   ]
  },
  {
   "cell_type": "code",
   "execution_count": 2,
   "id": "a0d910c7-7c52-4905-b7cf-8977bc73b228",
   "metadata": {},
   "outputs": [],
   "source": [
    "import time\n",
    "\n",
    "import dimcli\n",
    "import pandas as pd"
   ]
  },
  {
   "cell_type": "code",
   "execution_count": 4,
   "id": "3a616230-eb4e-4938-8503-742c21f3b528",
   "metadata": {},
   "outputs": [
    {
     "name": "stdout",
     "output_type": "stream",
     "text": [
      "\u001b[2mDimcli - Dimensions API Client (v0.9.9.1)\u001b[0m\n",
      "\u001b[2mConnected to: <https://app.dimensions.ai/api/dsl> - DSL v2.6\u001b[0m\n",
      "\u001b[2mMethod: manual login\u001b[0m\n",
      "====\n",
      "Heads up! The latest Dimcli version is  1.0.2\n",
      "You have installed:  0.9.9.1\n",
      "====\n",
      "Please upgrade: `pip install dimcli -U`\n"
     ]
    }
   ],
   "source": [
    "dimcli.login(\n",
    "    key=\"\", endpoint=\"https://app.dimensions.ai\"\n",
    ")\n",
    "dsl = dimcli.Dsl()"
   ]
  },
  {
   "cell_type": "code",
   "execution_count": 5,
   "id": "5ea004a4-324f-43e1-b0a2-5eb76f52342e",
   "metadata": {},
   "outputs": [],
   "source": [
    "df_inf = pd.read_excel('Documents/SCCM Data/SS - SCCM Guidelines Infection Authorship Data.xlsx', skiprows=[0])\n",
    "df_lt = pd.read_excel('Documents/SCCM Data/SS - SCCM Guidelines Long-Term Outcomes and Goals of Care.xlsx', skiprows=[0])\n",
    "df_screen = pd.read_excel('Documents/SCCM Data/SS - SCCM Guidelines Screening and Early Treatment Authorship Data.xlsx', skiprows=[0])\n",
    "df_vent = pd.read_excel('Documents/SCCM Data/SS - SCCM Guidelines Screening and Early Treatment Authorship Data.xlsx', skiprows=[0])\n",
    "df_add = pd.read_excel('Documents/SCCM Data/SS - SCCM Guidelines ADDITIONAL THERAPIES Authorship Data.xlsx', skiprows=[0])"
   ]
  },
  {
   "cell_type": "code",
   "execution_count": 30,
   "id": "a3524246-2dbc-428e-9980-01b1a8fdec4a",
   "metadata": {},
   "outputs": [
    {
     "name": "stderr",
     "output_type": "stream",
     "text": [
      "Starting iteration with limit=1000 skip=0 ...\u001b[0m\n",
      "0-159 / 159 (2.57s)\u001b[0m\n",
      "===\n",
      "Records extracted: 159\u001b[0m\n"
     ]
    }
   ],
   "source": [
    "inf_pmids = list(df_inf[df_inf['PMIDs'].notna()]['PMIDs'].astype(int))\n",
    "inf_titles = list(df_inf[df_inf['PMIDs'].isna()]['Title'])\n",
    "\n",
    "assert len(inf_pmids) + len(inf_titles) == len(df_inf)\n",
    "\n",
    "query_inf_pmids = f'''search publications where pmid in {inf_pmids} return publications'''\n",
    "\n",
    "dsl_inf_pmids = dsl.query_iterative(query_inf_pmids)\n",
    "dsl_inf_pmids.as_dataframe().to_csv('SCCM DATA/SS - SCCM GUIDELINES INFECTION DIMENSIONS PUBLICATIONS.csv')\n",
    "dsl_inf_pmids.as_dataframe_authors().to_csv('SCCM DATA/SS - SCCM GUIDELINES INFECTION DIMENSIONS AUTHORS.csv')\n",
    "dsl_inf_pmids.as_dataframe_authors_affiliations().to_csv('SCCM DATA/SS - SCCM GUIDELINES INFECTION DIMENSIONS AFFILIATIONS.csv')\n"
   ]
  },
  {
   "cell_type": "code",
   "execution_count": 31,
   "id": "630df681-f61a-42a9-b253-a4415bcf3ea4",
   "metadata": {},
   "outputs": [
    {
     "name": "stderr",
     "output_type": "stream",
     "text": [
      "Starting iteration with limit=1000 skip=0 ...\u001b[0m\n",
      "0-115 / 115 (0.96s)\u001b[0m\n",
      "===\n",
      "Records extracted: 115\u001b[0m\n"
     ]
    }
   ],
   "source": [
    "lt_pmids = list(df_lt[df_lt['PMIDs'].notna()]['PMIDs'].astype(int))\n",
    "lt_titles = list(df_lt[df_lt['PMIDs'].isna()]['Title'])\n",
    "\n",
    "assert len(lt_pmids) + len(lt_titles) == len(df_lt)\n",
    "\n",
    "query_lt_pmids = f'''search publications where pmid in {lt_pmids} return publications'''\n",
    "\n",
    "dsl_inf_pmids = dsl.query_iterative(query_lt_pmids)\n",
    "dsl_inf_pmids.as_dataframe().to_csv('SCCM DATA/SS - SCCM GUIDELINES LT DIMENSIONS PUBLICATIONS.csv')\n",
    "dsl_inf_pmids.as_dataframe_authors().to_csv('SCCM DATA/SS - SCCM GUIDELINES LT DIMENSIONS AUTHORS.csv')\n",
    "dsl_inf_pmids.as_dataframe_authors_affiliations().to_csv('SCCM DATA/SS - SCCM GUIDELINES LT DIMENSIONS AFFILIATIONS.csv')\n"
   ]
  },
  {
   "cell_type": "code",
   "execution_count": 10,
   "id": "e5fda481-baa5-44f9-9f64-ee135bf63b56",
   "metadata": {},
   "outputs": [
    {
     "name": "stderr",
     "output_type": "stream",
     "text": [
      "Starting iteration with limit=1000 skip=0 ...\u001b[0m\n",
      "0-159 / 159 (1.76s)\u001b[0m\n",
      "===\n",
      "Records extracted: 159\u001b[0m\n",
      "Starting iteration with limit=1000 skip=0 ...\u001b[0m\n"
     ]
    },
    {
     "name": "stdout",
     "output_type": "stream",
     "text": [
      "[]\n"
     ]
    },
    {
     "name": "stderr",
     "output_type": "stream",
     "text": [
      "0-115 / 115 (1.57s)\u001b[0m\n",
      "===\n",
      "Records extracted: 115\u001b[0m\n",
      "Starting iteration with limit=1000 skip=0 ...\u001b[0m\n"
     ]
    },
    {
     "name": "stdout",
     "output_type": "stream",
     "text": [
      "[]\n"
     ]
    },
    {
     "name": "stderr",
     "output_type": "stream",
     "text": [
      "0-66 / 66 (3.76s)\u001b[0m\n",
      "===\n",
      "Records extracted: 66\u001b[0m\n",
      "Starting iteration with limit=1000 skip=0 ...\u001b[0m\n"
     ]
    },
    {
     "name": "stdout",
     "output_type": "stream",
     "text": [
      "['Early lactate levels for prediction of mortality in patients with sepsis or septic shock: A meta-analysis.']\n"
     ]
    },
    {
     "name": "stderr",
     "output_type": "stream",
     "text": [
      "0-66 / 66 (1.26s)\u001b[0m\n",
      "===\n",
      "Records extracted: 66\u001b[0m\n",
      "Starting iteration with limit=1000 skip=0 ...\u001b[0m\n"
     ]
    },
    {
     "name": "stdout",
     "output_type": "stream",
     "text": [
      "['Early lactate levels for prediction of mortality in patients with sepsis or septic shock: A meta-analysis.']\n"
     ]
    },
    {
     "name": "stderr",
     "output_type": "stream",
     "text": [
      "0-62 / 62 (3.33s)\u001b[0m\n",
      "===\n",
      "Records extracted: 62\u001b[0m\n"
     ]
    },
    {
     "name": "stdout",
     "output_type": "stream",
     "text": [
      "[]\n"
     ]
    }
   ],
   "source": [
    "l = [df_inf, df_lt, df_screen, df_vent, df_add]\n",
    "titles = [\"Infection\", \"LongTerm\", \"Screening\", \"Ventilation\", \"Additional\"]\n",
    "\n",
    "for df, title in zip(l, titles):\n",
    "    pmids = list(df[df['PMIDs'].notna()]['PMIDs'].astype(int))\n",
    "    query_titles = list(df[df['PMIDs'].isna()]['Title'].dropna())\n",
    "    \n",
    "    query_pmid = f'''search publications where pmid in {pmids} return publications'''\n",
    "\n",
    "    results_pmid = dsl.query_iterative(query_pmid)\n",
    "    results_pmid.as_dataframe().to_csv(f'Documents/SCCM DATA/{title} PMID PUB RESULTS.csv')\n",
    "    results_pmid.as_dataframe_authors().to_csv(f'Documents/SCCM DATA/{title} PMID AUTH RESULTS.csv')\n",
    "    results_pmid.as_dataframe_authors_affiliations().to_csv(f'Documents/SCCM DATA/{title} PMID AFFIL RESULTS.csv')\n",
    "    \n",
    "    df_title_pubs = pd.DataFrame()\n",
    "    df_title_auths = pd.DataFrame()\n",
    "    df_title_affils = pd.DataFrame()\n",
    "    print(query_titles)\n",
    "    \n",
    "    df_title_pubs.to_csv(f'Documents/SCCM DATA/{title} TITLE PUB RESULTS.csv')\n",
    "    df_title_auths.to_csv(f'Documents/SCCM DATA/{title} TITLE AUTH RESULTS.csv')\n",
    "    df_title_affils.to_csv(f'Documents/SCCM DATA/{title} TITLE AFFIL RESULTS.csv')"
   ]
  },
  {
   "cell_type": "code",
   "execution_count": null,
   "id": "9a572819-07f1-4297-8681-f1207f93d41e",
   "metadata": {},
   "outputs": [],
   "source": []
  }
 ],
 "metadata": {
  "kernelspec": {
   "display_name": "Python 3 (ipykernel)",
   "language": "python",
   "name": "python3"
  },
  "language_info": {
   "codemirror_mode": {
    "name": "ipython",
    "version": 3
   },
   "file_extension": ".py",
   "mimetype": "text/x-python",
   "name": "python",
   "nbconvert_exporter": "python",
   "pygments_lexer": "ipython3",
   "version": "3.9.12"
  }
 },
 "nbformat": 4,
 "nbformat_minor": 5
}
